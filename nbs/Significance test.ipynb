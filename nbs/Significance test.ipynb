{
 "cells": [
  {
   "cell_type": "code",
   "execution_count": 2,
   "id": "e4f766aa-9010-4b9b-a6fc-bfd02c95f8ea",
   "metadata": {},
   "outputs": [
    {
     "name": "stdout",
     "output_type": "stream",
     "text": [
      "C:\\Dev\\Argument-Extraction-using-STS\n"
     ]
    }
   ],
   "source": [
    "import pandas as pd\n",
    "from pathlib import Path\n",
    "import pathlib\n",
    "import numpy as np\n",
    "# from scipy.stats import friedmanchisquare\n",
    "import scipy.stats as stats\n",
    "from sklearn.metrics import f1_score, classification_report\n",
    "from utils import parse_file\n",
    "\n",
    "\n",
    "current_path = pathlib.Path().resolve().parent\n",
    "print(current_path)"
   ]
  },
  {
   "cell_type": "code",
   "execution_count": 3,
   "id": "721f131e-961b-430c-a76a-d3d034341044",
   "metadata": {},
   "outputs": [],
   "source": [
    "\n",
    "def check_significance(grupo1, grupo2):\n",
    "    # Realiza la prueba U de Mann-Whitney\n",
    "    statistic, p_value = stats.mannwhitneyu(grupo1, grupo2, alternative='two-sided')\n",
    "    \n",
    "    # Comprueba si la diferencia es significativa (usando un nivel de significancia de 0.05)\n",
    "    alpha = 0.05\n",
    "    if p_value < alpha:\n",
    "        print(\"mannwhitneyu: La diferencia es significativa: rechazamos la hipótesis nula\")\n",
    "    else:\n",
    "        print(\"mannwhitneyu: No hay evidencia significativa para rechazar la hipótesis nula\")\n",
    "    \n",
    "    #########################\n",
    "    # Realiza la prueba de Wilcoxon\n",
    "    statistic, p_value = stats.wilcoxon(grupo1, grupo2)\n",
    "    \n",
    "    # Imprime el resultado\n",
    "    # print(\"Estadístico de prueba:\", statistic)\n",
    "    # print(\"Valor p:\", p_value)\n",
    "    \n",
    "    # Compara el valor p con un nivel de significancia (por ejemplo, 0.05) para tomar una decisión\n",
    "    alpha = 0.05\n",
    "    if p_value < alpha:\n",
    "        print(\"wilcoxon: La diferencia es significativa: rechazamos la hipótesis nula\")\n",
    "    else:\n",
    "        print(\"wilcoxon: No hay evidencia significativa para rechazar la hipótesis nula\")"
   ]
  },
  {
   "cell_type": "code",
   "execution_count": 10,
   "id": "a7bd7355-cd4a-420a-8783-476a55c56ebc",
   "metadata": {},
   "outputs": [
    {
     "name": "stdout",
     "output_type": "stream",
     "text": [
      "0.888\n",
      "0.892\n",
      "mannwhitneyu: La diferencia es significativa: rechazamos la hipótesis nula\n",
      "wilcoxon: La diferencia es significativa: rechazamos la hipótesis nula\n"
     ]
    }
   ],
   "source": [
    "grupo1 = []\n",
    "grupo2 = []\n",
    "\n",
    "# ['ugen', 'pe', 'webis']\n",
    "# ['sts_arguebert_ft', 'sts_arguebert_ft', 'sts_sbert_ft']\n",
    "\n",
    "dataname = 'webis'\n",
    "\n",
    "tanda = 'simple'\n",
    "sts_type = 'no_sts'\n",
    "for i in range(10):\n",
    "    dirpath = str(current_path / f'results-{tanda}' / f'{dataname}_{sts_type}' / f'test_{dataname}_{i}.txt')\n",
    "    tokens, labels, predictions = parse_file(dirpath)\n",
    "    f1_macro = f1_score(labels, predictions, average='macro')\n",
    "    grupo1.append(f1_macro)\n",
    "\n",
    "tanda = 'tanda-2'\n",
    "sts_type = 'sts_sbert_ft'\n",
    "for i in range(10):\n",
    "    dirpath = str(current_path / f'results-{tanda}' / f'{dataname}_{sts_type}' / f'test_{dataname}_{i}.txt')\n",
    "    tokens, labels, predictions = parse_file(dirpath)\n",
    "    f1_macro = f1_score(labels, predictions, average='macro')\n",
    "    grupo2.append(f1_macro)\n",
    "\n",
    "print(round(np.mean(grupo1), 3))\n",
    "print(round(np.mean(grupo2), 3))\n",
    "\n",
    "check_significance(grupo1, grupo2)"
   ]
  }
 ],
 "metadata": {
  "kernelspec": {
   "display_name": "Python 3 (ipykernel)",
   "language": "python",
   "name": "python3"
  },
  "language_info": {
   "codemirror_mode": {
    "name": "ipython",
    "version": 3
   },
   "file_extension": ".py",
   "mimetype": "text/x-python",
   "name": "python",
   "nbconvert_exporter": "python",
   "pygments_lexer": "ipython3",
   "version": "3.11.0"
  }
 },
 "nbformat": 4,
 "nbformat_minor": 5
}
